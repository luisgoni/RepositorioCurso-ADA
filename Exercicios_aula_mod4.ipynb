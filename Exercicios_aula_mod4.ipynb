{
  "nbformat": 4,
  "nbformat_minor": 0,
  "metadata": {
    "colab": {
      "provenance": [],
      "authorship_tag": "ABX9TyOsPyv3JuWxYTuUtW4P2d1i",
      "include_colab_link": true
    },
    "kernelspec": {
      "name": "python3",
      "display_name": "Python 3"
    },
    "language_info": {
      "name": "python"
    }
  },
  "cells": [
    {
      "cell_type": "markdown",
      "metadata": {
        "id": "view-in-github",
        "colab_type": "text"
      },
      "source": [
        "<a href=\"https://colab.research.google.com/github/luisgoni/RepositorioCurso-ADA/blob/main/Exercicios_aula_mod4.ipynb\" target=\"_parent\"><img src=\"https://colab.research.google.com/assets/colab-badge.svg\" alt=\"Open In Colab\"/></a>"
      ]
    },
    {
      "cell_type": "markdown",
      "source": [
        "**Exercicios feito em aula...**"
      ],
      "metadata": {
        "id": "8kKp2K3IeFKw"
      }
    },
    {
      "cell_type": "markdown",
      "source": [
        "`np.zeros((3,4))` # Create an array of zeros  \n",
        "`np.ones((2,3,4),dtype=np.int16)` # Create an array of ones  \n",
        "`d = np.arange(10,25,5)` # Create an array of evenly spaced values(step value)  \n",
        "`np.linspace(0,2,9)` # Create an array of evenly spaced values(number of samples)  \n",
        "`e = np.full((2,2),7)` # Create a constant array  \n",
        "`f = np.eye(2)` # Create a 2X2 identity matrix    \n",
        "`np.identity(2)` # Create the identity array  \n",
        "`np.random.random((2,2))` # Create an array with random values  \n",
        "`np.empty((3,2)) ` # Create an empty array  "
      ],
      "metadata": {
        "id": "VgrXX4ULr9ps"
      }
    },
    {
      "cell_type": "markdown",
      "source": [
        "## Aula 02"
      ],
      "metadata": {
        "id": "eCtONsM9o3lE"
      }
    },
    {
      "cell_type": "code",
      "source": [
        "import pandas as pd\n",
        "import numpy as np\n"
      ],
      "metadata": {
        "id": "fOwj6Z_UkCMf"
      },
      "execution_count": 1,
      "outputs": []
    },
    {
      "cell_type": "markdown",
      "source": [
        " - Exercicios :\n",
        "1. Crie um array numpy com valores partindo de 10 até 49\n",
        "2. Crie uma matriz numpy de 2 por 2 preenchida com 1's\n",
        "3. Crie uma matriz numpy 3 por 2 de floats preenchida com 1's\n",
        "4. Crie uma matriz 4 por 4 de integers preenchida com 5's\n",
        "5. Crie uma matriz identidade de 3 por 3\n",
        "6. Crie um array numppy prrenchido 3 integers aleatórias entre 1 e 10"
      ],
      "metadata": {
        "id": "PM6HpJzutjkl"
      }
    },
    {
      "cell_type": "code",
      "source": [
        "# 1. Crie um array numpy com valores partindo de 10 até 49:\n",
        "numeros = np.arange(10,49)\n",
        "print(f'Numeros de 10 a 49 : {numeros}')"
      ],
      "metadata": {
        "id": "Qg1r2PISlpmK",
        "colab": {
          "base_uri": "https://localhost:8080/"
        },
        "outputId": "b827af91-da10-4c68-8489-11283132fcff"
      },
      "execution_count": 10,
      "outputs": [
        {
          "output_type": "stream",
          "name": "stdout",
          "text": [
            "Numeros de 10 a 49 : [10 11 12 13 14 15 16 17 18 19 20 21 22 23 24 25 26 27 28 29 30 31 32 33\n",
            " 34 35 36 37 38 39 40 41 42 43 44 45 46 47 48]\n"
          ]
        }
      ]
    },
    {
      "cell_type": "code",
      "source": [
        "# 2. Crie uma matriz numpy de 2 por 2 preenchida com 1's:\n",
        "matrizde1 = np.ones((2, 2))\n",
        "print('\\nMatriz de 2 por 2 de numero 1\\n',matrizde1)"
      ],
      "metadata": {
        "id": "JjUR-1DPvjrA",
        "colab": {
          "base_uri": "https://localhost:8080/"
        },
        "outputId": "8327539e-5714-4fd3-b06e-cc0d86e75e8e"
      },
      "execution_count": 16,
      "outputs": [
        {
          "output_type": "stream",
          "name": "stdout",
          "text": [
            "\n",
            "Matriz de 2 por 2 de numero 1\n",
            " [[1. 1.]\n",
            " [1. 1.]]\n"
          ]
        }
      ]
    },
    {
      "cell_type": "code",
      "source": [
        "# 3.Crie uma matriz numpy 3 por 2 de floats preenchida com 1's\n",
        "matriz2 = np.ones((3, 2), dtype=float)\n",
        "print(\"\\nMatriz de 3 por 2 de numeros floats\\n\", matriz2)"
      ],
      "metadata": {
        "id": "M7Rc3Jsnvnwe",
        "colab": {
          "base_uri": "https://localhost:8080/"
        },
        "outputId": "753c0d83-2db7-4086-fd18-a29197b9a2bb"
      },
      "execution_count": 18,
      "outputs": [
        {
          "output_type": "stream",
          "name": "stdout",
          "text": [
            "\n",
            "Matriz de 3 por 2 de numeros floats\n",
            " [[1. 1.]\n",
            " [1. 1.]\n",
            " [1. 1.]]\n"
          ]
        }
      ]
    },
    {
      "cell_type": "code",
      "source": [
        "# 4. Crie uma matriz 4 por 4 de integers preenchida com 5's\n",
        "matriz = np.full((4, 4), 5)\n",
        "print(\"\\nMatriz de 4 por 4 com numero 5 inteiro\\n\", matriz)"
      ],
      "metadata": {
        "id": "8LPtcZYxvquJ",
        "colab": {
          "base_uri": "https://localhost:8080/"
        },
        "outputId": "a8bc5400-2afd-442e-ae6c-e3f798d7f0a1"
      },
      "execution_count": 19,
      "outputs": [
        {
          "output_type": "stream",
          "name": "stdout",
          "text": [
            "\n",
            "Matriz de 4 por 4 com numero 5 inteiro\n",
            " [[5 5 5 5]\n",
            " [5 5 5 5]\n",
            " [5 5 5 5]\n",
            " [5 5 5 5]]\n"
          ]
        }
      ]
    },
    {
      "cell_type": "code",
      "source": [
        "# 5. Crie uma matriz identidade de 3 por 3\n",
        "matrizID = np.eye(3)\n",
        "print(\"\\nMatriz de identidade:\\n\", matrizID)"
      ],
      "metadata": {
        "id": "6eOTO8LWvrgz",
        "colab": {
          "base_uri": "https://localhost:8080/"
        },
        "outputId": "bf2f5d26-a5bf-4209-ed98-892bebc5021e"
      },
      "execution_count": 22,
      "outputs": [
        {
          "output_type": "stream",
          "name": "stdout",
          "text": [
            "\n",
            "Matriz de identidade:\n",
            " [[1. 0. 0.]\n",
            " [0. 1. 0.]\n",
            " [0. 0. 1.]]\n"
          ]
        }
      ]
    },
    {
      "cell_type": "code",
      "source": [
        "# 6. Crie um array numpy preenchido com 3 integers aleatórias entre 1 e 10\n",
        "array = np.random.randint(1, 11, 3)\n",
        "print(\"\\nArray com 3 interiros aleatorios :\\n\", array)"
      ],
      "metadata": {
        "id": "KrMbvHs3vsX8",
        "colab": {
          "base_uri": "https://localhost:8080/"
        },
        "outputId": "7c1d8f81-0537-424a-b9ef-909f74ebf168"
      },
      "execution_count": 25,
      "outputs": [
        {
          "output_type": "stream",
          "name": "stdout",
          "text": [
            "\n",
            "Array com 3 interiros aleatorios :\n",
            " [3 3 2]\n"
          ]
        }
      ]
    },
    {
      "cell_type": "markdown",
      "source": [
        "### Continuidade exercicios Aula 2\n",
        "1. Dado o array X = np.array(['A','B','C','D','E'])\n",
        "Mostre o último elemento\n",
        "2. Mostre os primeiros 3 elementos\n",
        "3. Mostre só os elementos do meio\n",
        "4. Inverta a ordem do array\n",
        "5. Mostre os elementos nas posições impar.\n",
        "6. De acordo com a matriz, mostre a primeira linha X = np.array([\n",
        "    [1,   2,  3,  4],\n",
        "    [5,   6,  7,  8],\n",
        "    [9,  10, 11, 12],\n",
        "    [13, 14, 15, 16]\n",
        "])\n",
        "7. Mostre o primeiro elemento na primeira linha\n",
        "8. Mostre a linha intermediária\n",
        "9. Os primeiros 2 elementos das duas primeiras linhas\n",
        "10. Os últimos 2 elementos das duas últimas linhas"
      ],
      "metadata": {
        "id": "yqx0tC-Svuxu"
      }
    },
    {
      "cell_type": "code",
      "source": [
        "#1 Dado o array X = np.array(['A','B','C','D','E']), Mostre o último elemnto.\n",
        "x = (['A','B','C','D','E'])\n",
        "print(\"\\nMostrando o ultimo elemento: \\n\", x[-1])"
      ],
      "metadata": {
        "colab": {
          "base_uri": "https://localhost:8080/"
        },
        "id": "R-76SnYOvtJv",
        "outputId": "8722b9bc-5531-475e-f61c-9d117b46b5db"
      },
      "execution_count": 41,
      "outputs": [
        {
          "output_type": "stream",
          "name": "stdout",
          "text": [
            "\n",
            "Mostrando o ultimo elemento: \n",
            " E\n"
          ]
        }
      ]
    },
    {
      "cell_type": "code",
      "source": [
        "# 2 Mostre os primeiros 3 elementos:\n",
        "print('\\nMostrando os 3 primeiros elementos da lista:\\n, ',x[:3])"
      ],
      "metadata": {
        "colab": {
          "base_uri": "https://localhost:8080/"
        },
        "id": "W91THzv_wOjM",
        "outputId": "afb35552-021c-4ba2-d754-5a2a0fb389b1"
      },
      "execution_count": 35,
      "outputs": [
        {
          "output_type": "stream",
          "name": "stdout",
          "text": [
            "\n",
            "Mostrando os 3 primeiros elementos da lista:\n",
            ",  ['A', 'B', 'C']\n"
          ]
        }
      ]
    },
    {
      "cell_type": "code",
      "source": [
        "#3 Mostre só os elemntos do meio:\n",
        "print('\\nMostrando os elementos do meio: \\n',x[1:4])"
      ],
      "metadata": {
        "colab": {
          "base_uri": "https://localhost:8080/"
        },
        "id": "BOVWVw_WwvA3",
        "outputId": "4757e0c8-4e57-4565-d762-e1c00ea1612b"
      },
      "execution_count": 39,
      "outputs": [
        {
          "output_type": "stream",
          "name": "stdout",
          "text": [
            "\n",
            "Mostrando os elementos do meio: \n",
            " ['B', 'C', 'D']\n"
          ]
        }
      ]
    },
    {
      "cell_type": "code",
      "source": [
        "#4 Inverta a ordem do array:\n",
        "print(\"\\n Invertendo a ordem do array \\n\", x[::-1])"
      ],
      "metadata": {
        "id": "CuBVATo6xBG-",
        "colab": {
          "base_uri": "https://localhost:8080/"
        },
        "outputId": "66b389ca-f66f-4975-87b5-29d16dd028ad"
      },
      "execution_count": 43,
      "outputs": [
        {
          "output_type": "stream",
          "name": "stdout",
          "text": [
            "\n",
            " Invertendo a ordem do array \n",
            " ['E', 'D', 'C', 'B', 'A']\n"
          ]
        }
      ]
    },
    {
      "cell_type": "code",
      "source": [
        "#5. Mostre os elementos nas posições impar.\n",
        "print(\"\\nMostrando os numeros impar:\\n\", x[::2])"
      ],
      "metadata": {
        "id": "BbGz7OnT69VY",
        "colab": {
          "base_uri": "https://localhost:8080/"
        },
        "outputId": "3a91c83c-0a49-4227-a4c4-e81c89bc52fb"
      },
      "execution_count": 44,
      "outputs": [
        {
          "output_type": "stream",
          "name": "stdout",
          "text": [
            "\n",
            "Mostrando os numeros impar:\n",
            " ['A', 'C', 'E']\n"
          ]
        }
      ]
    },
    {
      "cell_type": "code",
      "source": [
        "#6. De acordo com a matriz, mostre a primeira linha X = np.array([ [1, 2, 3, 4], [5, 6, 7, 8], [9, 10, 11, 12], [13, 14, 15, 16] ]):\n",
        "X = np.array([\n",
        "    [1,   2,  3,  4],\n",
        "    [5,   6,  7,  8],\n",
        "    [9,  10, 11, 12],\n",
        "    [13, 14, 15, 16]\n",
        "])\n",
        "print(\"\\n Mostrando a prijmeira linha: \\n\", X[0])\n"
      ],
      "metadata": {
        "id": "zkezAuIX6965",
        "colab": {
          "base_uri": "https://localhost:8080/"
        },
        "outputId": "f9c96bc2-fccb-44fa-b65c-12896a15508a"
      },
      "execution_count": 46,
      "outputs": [
        {
          "output_type": "stream",
          "name": "stdout",
          "text": [
            "\n",
            " Mostrando a prijmeira linha: \n",
            " [1 2 3 4]\n"
          ]
        }
      ]
    },
    {
      "cell_type": "code",
      "source": [
        "#7. Mostre o primeiro elemento na primeira linha:\n",
        "print(\"\\nMostrando o primeiro elemento na primeira linha\\n\", X[0, 0])"
      ],
      "metadata": {
        "id": "SnTD8CG06-sz",
        "colab": {
          "base_uri": "https://localhost:8080/"
        },
        "outputId": "1f2c17d6-0798-407f-ace0-7d0d1ba90679"
      },
      "execution_count": 47,
      "outputs": [
        {
          "output_type": "stream",
          "name": "stdout",
          "text": [
            "\n",
            "Mostrando o primeiro elemento na primeira linha\n",
            " 1\n"
          ]
        }
      ]
    },
    {
      "cell_type": "code",
      "source": [
        "#8. Mostre a linha intermediária\n",
        "print(\"\\nMostrando o intermediario:\\n\", X[X.shape[0]//2])"
      ],
      "metadata": {
        "id": "pzcy8DMQ6_X5",
        "colab": {
          "base_uri": "https://localhost:8080/"
        },
        "outputId": "b7bd6c76-71c9-42ac-9549-ffe1e3fc2155"
      },
      "execution_count": 48,
      "outputs": [
        {
          "output_type": "stream",
          "name": "stdout",
          "text": [
            "\n",
            "Mostrando o intermediario:\n",
            " [ 9 10 11 12]\n"
          ]
        }
      ]
    },
    {
      "cell_type": "code",
      "source": [
        "#9. Os primeiros 2 elementos das duas primeiras linhas\n",
        "print(\"\\nResposta:\\n\", X[:2, :2])"
      ],
      "metadata": {
        "id": "y-IYuDgQ6_5v",
        "colab": {
          "base_uri": "https://localhost:8080/"
        },
        "outputId": "9588472b-2786-4618-8577-e0c8b12c0405"
      },
      "execution_count": 49,
      "outputs": [
        {
          "output_type": "stream",
          "name": "stdout",
          "text": [
            "\n",
            "Resposta:\n",
            " [[1 2]\n",
            " [5 6]]\n"
          ]
        }
      ]
    },
    {
      "cell_type": "code",
      "source": [
        "#10. Os últimos 2 elementos das duas últimas linhas\n",
        "print(\"\\nResposta:\\n\", X[-2:, -2:])"
      ],
      "metadata": {
        "id": "AkHl4Mmt7AfE",
        "colab": {
          "base_uri": "https://localhost:8080/"
        },
        "outputId": "e878d898-c9af-4419-82e6-4d59241e933b"
      },
      "execution_count": 51,
      "outputs": [
        {
          "output_type": "stream",
          "name": "stdout",
          "text": [
            "\n",
            "Resposta:\n",
            " [[11 12]\n",
            " [15 16]]\n"
          ]
        }
      ]
    },
    {
      "cell_type": "markdown",
      "source": [
        "##Parte 3\n",
        "1. De acordo com o array X = np.array([3, 5, 6, 7, 2, 3, 4, 9, 4])\n",
        "faça a soma\n",
        "2. Faça a média\n",
        "3. Dada a matriz faça a soma das colunas X = np.array([\n",
        "    [1,   2,  3,  4],\n",
        "    [5,   6,  7,  8],\n",
        "    [9,  10, 11, 12],\n",
        "    [13, 14, 15, 16]\n",
        "])\n",
        "4. Faça a média das linhas\n",
        "5. Dado o array X = np.array([1, 2, 0, 4, 5, 6, 0, 0, 9, 10])\n",
        "Mostre o elemento de maior valor"
      ],
      "metadata": {
        "id": "yMJUzpJ47C5T"
      }
    },
    {
      "cell_type": "code",
      "source": [
        "#1 De acordo com o array X = np.array([3, 5, 6, 7, 2, 3, 4, 9, 4])\n",
        "x = np.array([3, 5, 6, 7, 2, 3, 4, 9, 4])\n",
        "soma = (x.sum())\n",
        "print(soma)\n"
      ],
      "metadata": {
        "colab": {
          "base_uri": "https://localhost:8080/"
        },
        "id": "PVrjEFWZ7BPF",
        "outputId": "9700d905-8c2c-4f9d-8b2f-e91355af7cbf"
      },
      "execution_count": null,
      "outputs": [
        {
          "output_type": "stream",
          "name": "stdout",
          "text": [
            "43\n"
          ]
        }
      ]
    },
    {
      "cell_type": "code",
      "source": [
        "#2. Faça a Média:\n",
        "Média = x.mean()\n",
        "print('A média dos numeros são :',Média)"
      ],
      "metadata": {
        "colab": {
          "base_uri": "https://localhost:8080/"
        },
        "id": "2J6FmxCC9BaU",
        "outputId": "84939c5e-792b-4b57-9b74-c29313bc7ba7"
      },
      "execution_count": null,
      "outputs": [
        {
          "output_type": "stream",
          "name": "stdout",
          "text": [
            "A média dos numeros são : 4.777777777777778\n"
          ]
        }
      ]
    },
    {
      "cell_type": "code",
      "source": [
        "# Dada a matriz X = np.array([ [1, 2, 3, 4], [5, 6, 7, 8], [9, 10, 11, 12], [13, 14, 15, 16] ]):\n",
        "# 3. Faça a soma das colunas:\n",
        "X = np.array([\n",
        "     [1, 2, 3, 4],\n",
        "     [5, 6, 7, 8],\n",
        "     [9, 10, 11, 12],\n",
        "     [13, 14, 15, 16]])\n",
        "soma_colunas = np.sum(X, axis=0)\n",
        "print(\"\\n3. Soma das colunas:\")\n",
        "print(soma_colunas)"
      ],
      "metadata": {
        "colab": {
          "base_uri": "https://localhost:8080/"
        },
        "id": "y9c98v7y96RT",
        "outputId": "144860a5-b55c-4219-9cc1-81794ac099c9"
      },
      "execution_count": 52,
      "outputs": [
        {
          "output_type": "stream",
          "name": "stdout",
          "text": [
            "\n",
            "3. Soma das colunas:\n",
            "[28 32 36 40]\n"
          ]
        }
      ]
    },
    {
      "cell_type": "code",
      "source": [
        "#4. Faça a média das linhas\n",
        "media_linhas = np.mean(X, axis=1)\n",
        "print(\"\\n4. Média das linhas:\")\n",
        "print(media_linhas)"
      ],
      "metadata": {
        "colab": {
          "base_uri": "https://localhost:8080/"
        },
        "id": "ldR6wXGXGKrL",
        "outputId": "79573051-6175-43e8-a308-cea21d83d3b6"
      },
      "execution_count": 54,
      "outputs": [
        {
          "output_type": "stream",
          "name": "stdout",
          "text": [
            "\n",
            "4. Média das linhas:\n",
            "[ 2.5  6.5 10.5 14.5]\n"
          ]
        }
      ]
    },
    {
      "cell_type": "code",
      "source": [
        "# 5. Dado o array X = np.array([1, 2, 0, 4, 5, 6, 0, 0, 9, 10]) Mostre o elemento de maior valor\n",
        "X = np.array([1, 2, 0, 4, 5, 6, 0, 0, 9, 10])\n",
        "print(\"\\nElemento de maior valor\\n\", np.max(X))"
      ],
      "metadata": {
        "colab": {
          "base_uri": "https://localhost:8080/"
        },
        "id": "zitlfenbww_T",
        "outputId": "925b101a-dfe5-4625-86e0-fe30a9aea1f9"
      },
      "execution_count": 56,
      "outputs": [
        {
          "output_type": "stream",
          "name": "stdout",
          "text": [
            "\n",
            "Elemento de maior valor\n",
            " 10\n"
          ]
        }
      ]
    },
    {
      "cell_type": "markdown",
      "source": [
        "### Aula\n",
        "-Aula dia 15/01\n",
        "Exercicios:\n",
        "1. Crie uma Serie com elementos A, B, C e com os indexes primeiro, segundo, terceiro\n",
        "2. Agora mostre o primeiro elemento da Serie anterior\n",
        "3. Baseado na Serie X = pd.Series([1,2,3,4,5],\n",
        "              index=['first','second','third','forth','fifth'])\n",
        "              **Transforme** em float\n",
        "4. Mude a ordem da mesma Serie utilizada no Exercicio 3\n",
        "5. Organize os valores da Serie X = pd.Series([4,2,5,1,3],\n",
        "              index=['forth','second','fifth','first','third'])\n",
        "6. Add 5 para todos os elementos da Serie X = pd.Series([1,2,3,4,5])\n",
        "7. Crie uma máscara para mostrar somente elementos negativos X = pd.Series([-1,2,0,-4,5,6,0,0,-9,10])\n",
        "8. Colete todos os elementos negativos X = pd.Series([-1,2,0,-4,5,6,0,0,-9,10])\n"
      ],
      "metadata": {
        "id": "d30yDgrIaNEV"
      }
    },
    {
      "cell_type": "code",
      "source": [
        "#1."
      ],
      "metadata": {
        "id": "ZIgCgyIsaMV3"
      },
      "execution_count": null,
      "outputs": []
    },
    {
      "cell_type": "code",
      "source": [
        "#2."
      ],
      "metadata": {
        "id": "QHB6bvNXaVSw"
      },
      "execution_count": null,
      "outputs": []
    },
    {
      "cell_type": "code",
      "source": [
        "#3."
      ],
      "metadata": {
        "id": "h3m_FDfRd52v"
      },
      "execution_count": null,
      "outputs": []
    },
    {
      "cell_type": "code",
      "source": [
        "#4."
      ],
      "metadata": {
        "id": "FKRRYa49d6fE"
      },
      "execution_count": null,
      "outputs": []
    },
    {
      "cell_type": "code",
      "source": [
        "#5."
      ],
      "metadata": {
        "id": "rfLF2lXTd8CO"
      },
      "execution_count": null,
      "outputs": []
    },
    {
      "cell_type": "code",
      "source": [
        "#6."
      ],
      "metadata": {
        "id": "acEhFZ2rd85R"
      },
      "execution_count": null,
      "outputs": []
    },
    {
      "cell_type": "code",
      "source": [
        "#7."
      ],
      "metadata": {
        "id": "erEMkFFXd-Wb"
      },
      "execution_count": null,
      "outputs": []
    },
    {
      "cell_type": "code",
      "source": [
        "#8."
      ],
      "metadata": {
        "id": "IaaEOcSCd_-P"
      },
      "execution_count": null,
      "outputs": []
    }
  ]
}